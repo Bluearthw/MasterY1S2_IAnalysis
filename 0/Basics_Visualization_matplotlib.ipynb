{
 "cells": [
  {
   "cell_type": "markdown",
   "metadata": {
    "colab_type": "text",
    "id": "2SjA0HuxvIvH"
   },
   "source": [
    "# Visualization: Matplotlib\n",
    "\n",
    "Install via: python -m pip install -U matplotlib"
   ]
  },
  {
   "cell_type": "code",
   "execution_count": null,
   "metadata": {
    "colab": {},
    "colab_type": "code",
    "id": "MOWN7b1zvIvN"
   },
   "outputs": [],
   "source": [
    "# Enable printing to work the same in Python 2 and 3\n",
    "from __future__ import print_function\n",
    "\n",
    "import matplotlib\n",
    "print(matplotlib.__version__)"
   ]
  },
  {
   "cell_type": "code",
   "execution_count": null,
   "metadata": {
    "colab": {},
    "colab_type": "code",
    "id": "ugbxJQrCvIve"
   },
   "outputs": [],
   "source": [
    "import numpy as np              # Basic lib for numerical computing\n",
    "import matplotlib.pyplot as plt # Basic lib for visualization of data (almost the same as matlab)"
   ]
  },
  {
   "cell_type": "markdown",
   "metadata": {
    "colab_type": "text",
    "id": "sR6J-9BLvIvl"
   },
   "source": [
    "### Defining a figure instance"
   ]
  },
  {
   "cell_type": "code",
   "execution_count": null,
   "metadata": {
    "colab": {},
    "colab_type": "code",
    "id": "nNRWRX2vvIvo",
    "scrolled": true
   },
   "outputs": [],
   "source": [
    "# Setting axes\n",
    "fig = plt.figure() \n",
    "ax = fig.add_subplot(111) # Three digit number to change nrows, ncols, and index\n",
    "ax.set(\n",
    "    xlim=[2.5, 4.5], \n",
    "    ylim=[-5, 5], \n",
    "    title='This is the title', \n",
    "    ylabel='y axis', \n",
    "    xlabel='x axis'\n",
    ")\n",
    "plt.show()"
   ]
  },
  {
   "cell_type": "markdown",
   "metadata": {},
   "source": [
    "## Colormaps\n",
    "\n",
    "[official documents for all colormaps](https://matplotlib.org/stable/users/explain/colors/colormaps.html)"
   ]
  },
  {
   "cell_type": "code",
   "execution_count": null,
   "metadata": {},
   "outputs": [],
   "source": [
    "print('\\033[1;32m [INFO] All colormaps \\033[0m ')\n",
    "import json\n",
    "print(list(matplotlib.colormaps.keys()))"
   ]
  },
  {
   "cell_type": "code",
   "execution_count": null,
   "metadata": {},
   "outputs": [],
   "source": [
    "cmap = matplotlib.colormaps['jet']\n",
    "rgba = cmap(0.5) # The value should between [0, 1]\n",
    "print(rgba)"
   ]
  },
  {
   "cell_type": "markdown",
   "metadata": {
    "colab_type": "text",
    "id": "l4H3pvMEvIv4"
   },
   "source": [
    "## Lets start Plotting\n",
    "### Line plot"
   ]
  },
  {
   "cell_type": "code",
   "execution_count": null,
   "metadata": {
    "colab": {},
    "colab_type": "code",
    "id": "j37EkbbvvIv7"
   },
   "outputs": [],
   "source": [
    "fig = plt.figure()\n",
    "ax = fig.add_subplot(111)\n",
    "line1_x = [1, 2, 3, 4]\n",
    "line1_y = [10, 20, 25, 30]\n",
    "\n",
    "line2_x = [1, 2, 3, 4]\n",
    "line2_y = [10, 15, 20, 25]\n",
    "\n",
    "ax.plot(line1_x, line1_y, color='blue', linewidth=3)\n",
    "ax.plot(line2_x, line2_y, color='red', linewidth=3)\n",
    "plt.legend(['line1', 'line2'])\n",
    "plt.show()"
   ]
  },
  {
   "cell_type": "markdown",
   "metadata": {
    "colab_type": "text",
    "id": "Fls-uiJsvIwC"
   },
   "source": [
    "### Scatter plot"
   ]
  },
  {
   "cell_type": "code",
   "execution_count": null,
   "metadata": {
    "colab": {},
    "colab_type": "code",
    "id": "0QDr_vN1vIwE"
   },
   "outputs": [],
   "source": [
    "fig = plt.figure()\n",
    "ax = fig.add_subplot(111)\n",
    "color_scheme=[0, 0.3, 0.7, 0.9]\n",
    "x_data = [1, 2, 3, 4]\n",
    "y_data = [10, 20, 25, 30]\n",
    "ax.scatter(x_data, y_data, c=color_scheme, marker='^', cmap='jet')\n",
    "ax.set_xlim(0.5, 4.5)\n",
    "plt.show()"
   ]
  },
  {
   "cell_type": "code",
   "execution_count": null,
   "metadata": {
    "colab": {},
    "colab_type": "code",
    "id": "mt4N39mdvIwL"
   },
   "outputs": [],
   "source": [
    "#let's print sin function\n",
    "fig = plt.figure()\n",
    "ax = fig.add_subplot(111)\n",
    "x_data = list(np.arange(0.0,10.0,0.1))\n",
    "y_data = np.sin(x_data)\n",
    "ax.plot(x_data, y_data, color='blue', linewidth=3)\n",
    "plt.show()"
   ]
  },
  {
   "cell_type": "code",
   "execution_count": null,
   "metadata": {
    "colab": {},
    "colab_type": "code",
    "id": "py972igwvIwT"
   },
   "outputs": [],
   "source": [
    "y = np.random.randn(100).cumsum()\n",
    "x = np.arange(0, 100)\n",
    "\n",
    "fig, ax = plt.subplots()\n",
    "ax.fill_between(x, y, color='black') #fill_between fills the region under the curve\n",
    "plt.show()"
   ]
  },
  {
   "cell_type": "markdown",
   "metadata": {
    "colab_type": "text",
    "id": "pfqyXKJ5vIwY"
   },
   "source": [
    "## Plotting multiple figures"
   ]
  },
  {
   "cell_type": "code",
   "execution_count": null,
   "metadata": {
    "colab": {},
    "colab_type": "code",
    "id": "fAH8iz6OvIwa"
   },
   "outputs": [],
   "source": [
    "y = np.random.randn(100).cumsum()\n",
    "x = np.arange(0, 100)\n",
    "fig, ((ax1, ax2),(ax3,ax4)) = plt.subplots(2, 2, sharex=True, sharey=True)\n",
    "ax1.plot(x, y)\n",
    "ax2.plot(-x, y)\n",
    "ax3.plot(x, -y)\n",
    "ax4.plot(-x, -y)\n",
    "plt.show()"
   ]
  },
  {
   "cell_type": "markdown",
   "metadata": {
    "colab_type": "text",
    "id": "TZ7x4K59vIwh"
   },
   "source": [
    "### Heatmaps"
   ]
  },
  {
   "cell_type": "code",
   "execution_count": null,
   "metadata": {
    "colab": {},
    "colab_type": "code",
    "id": "3F776TlivIwj"
   },
   "outputs": [],
   "source": [
    "# Colorbar/Heatmap: Good for showing confusion matrix, coorelation matrix etc..\n",
    "fig, ax = plt.subplots()\n",
    "im = ax.imshow(np.random.randn(3,3), \n",
    "               cmap='seismic', interpolation='nearest')\n",
    "fig.colorbar(im)\n",
    "plt.show()\n",
    "\n"
   ]
  },
  {
   "cell_type": "code",
   "execution_count": null,
   "metadata": {
    "colab": {},
    "colab_type": "code",
    "id": "7z1kzKp_vIwo"
   },
   "outputs": [],
   "source": [
    "#source: https://matplotlib.org/3.1.1/gallery/images_contours_and_fields/image_annotated_heatmap.html\n",
    "import numpy as np\n",
    "import matplotlib\n",
    "import matplotlib.pyplot as plt\n",
    "# sphinx_gallery_thumbnail_number = 2\n",
    "\n",
    "vegetables = [\"cucumber\", \"tomato\", \"lettuce\", \"asparagus\",\n",
    "              \"potato\", \"wheat\", \"barley\"]\n",
    "farmers = [\"Farmer Joe\", \"Upland Bros.\", \"Smith Gardening\",\n",
    "           \"Agrifun\", \"Organiculture\", \"BioGoods Ltd.\", \"Cornylee Corp.\"]\n",
    "\n",
    "harvest = np.array([[0.8, 2.4, 2.5, 3.9, 0.0, 4.0, 0.0],\n",
    "                    [2.4, 0.0, 4.0, 1.0, 2.7, 0.0, 0.0],\n",
    "                    [1.1, 2.4, 0.8, 4.3, 1.9, 4.4, 0.0],\n",
    "                    [0.6, 0.0, 0.3, 0.0, 3.1, 0.0, 0.0],\n",
    "                    [0.7, 1.7, 0.6, 2.6, 2.2, 6.2, 0.0],\n",
    "                    [1.3, 1.2, 0.0, 0.0, 0.0, 3.2, 5.1],\n",
    "                    [0.1, 2.0, 0.0, 1.4, 0.0, 1.9, 6.3]])\n",
    "\n",
    "\n",
    "fig, ax = plt.subplots()\n",
    "im = ax.imshow(harvest, interpolation='nearest')\n",
    "\n",
    "# We want to show all ticks...\n",
    "ax.set_xticks(np.arange(len(farmers)))\n",
    "ax.set_yticks(np.arange(len(vegetables)))\n",
    "# ... and label them with the respective list entries\n",
    "ax.set_xticklabels(farmers)\n",
    "ax.set_yticklabels(vegetables)\n",
    "fig.colorbar(im)\n",
    "# Rotate the tick labels and set their alignment.\n",
    "plt.setp(ax.get_xticklabels(), rotation=45, ha=\"right\",\n",
    "         rotation_mode=\"anchor\")\n",
    "\n",
    "# Loop over data dimensions and create text annotations.\n",
    "for i in range(len(vegetables)):\n",
    "    for j in range(len(farmers)):\n",
    "        text = ax.text(j, i, harvest[i, j],\n",
    "                       ha=\"center\", va=\"center\", color=\"w\")\n",
    "\n",
    "ax.set_title(\"Harvest of local farmers (in tons/year)\")\n",
    "fig.tight_layout()\n",
    "plt.show()\n"
   ]
  },
  {
   "cell_type": "markdown",
   "metadata": {
    "colab_type": "text",
    "id": "_nL6QojPvIwv"
   },
   "source": [
    "### Histograms"
   ]
  },
  {
   "cell_type": "code",
   "execution_count": null,
   "metadata": {
    "colab": {},
    "colab_type": "code",
    "id": "onH_eQJMvIww"
   },
   "outputs": [],
   "source": [
    "data = np.random.randn(1000)\n",
    "plt.hist(data)\n",
    "# try adding axis, titles, legends etc"
   ]
  },
  {
   "cell_type": "code",
   "execution_count": null,
   "metadata": {
    "colab": {},
    "colab_type": "code",
    "id": "sfHJtus5vIw2"
   },
   "outputs": [],
   "source": []
  }
 ],
 "metadata": {
  "colab": {
   "collapsed_sections": [],
   "name": "Basics_Visualization_matplotlib.ipynb",
   "provenance": []
  },
  "kernelspec": {
   "display_name": "Python 3 (ipykernel)",
   "language": "python",
   "name": "python3"
  },
  "language_info": {
   "codemirror_mode": {
    "name": "ipython",
    "version": 3
   },
   "file_extension": ".py",
   "mimetype": "text/x-python",
   "name": "python",
   "nbconvert_exporter": "python",
   "pygments_lexer": "ipython3",
   "version": "3.8.9"
  }
 },
 "nbformat": 4,
 "nbformat_minor": 4
}
