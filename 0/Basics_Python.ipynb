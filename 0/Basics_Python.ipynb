{
 "cells": [
  {
   "cell_type": "markdown",
   "metadata": {
    "colab_type": "text",
    "id": "rsJ_BDoimXYo"
   },
   "source": [
    "# Basics of Python\n",
    "This is a very basic tutoria; of python to help get started with this lab."
   ]
  },
  {
   "cell_type": "markdown",
   "metadata": {
    "colab_type": "text",
    "id": "p3veyib4mXYt"
   },
   "source": [
    "### Hello world"
   ]
  },
  {
   "cell_type": "code",
   "execution_count": null,
   "metadata": {
    "colab": {},
    "colab_type": "code",
    "id": "Fg2mo5EZmXYv"
   },
   "outputs": [],
   "source": [
    "print(\"Hello World!\")\n",
    "# This is a single line comment\n"
   ]
  },
  {
   "cell_type": "code",
   "execution_count": null,
   "metadata": {},
   "outputs": [],
   "source": [
    "# String formatting, you can build your own logger this way\n",
    "\n",
    "import datetime\n",
    "now = datetime.date.today()\n",
    "\n",
    "info_wrapper=\"\\033[1;32m [INFO] {content}\\033[0m\" # green text wrapper\n",
    "print(info_wrapper.format(content=f\"Hello World! Today is {now}\"))"
   ]
  },
  {
   "cell_type": "markdown",
   "metadata": {
    "colab_type": "text",
    "id": "EKUK_LN2mXY5"
   },
   "source": [
    "### Variables"
   ]
  },
  {
   "cell_type": "code",
   "execution_count": null,
   "metadata": {
    "colab": {},
    "colab_type": "code",
    "id": "Gx8oixGwmXY6"
   },
   "outputs": [],
   "source": [
    "a = 1\n",
    "b =\"string\"\n",
    "c=3\n",
    "\n",
    "print(a,b,c) # this is how you print\n",
    "\n",
    "print('a=%d, b=%s'%(a,b)) # Another way of printing, Formatting in Python \n",
    "# Read more about formatting here https://pyformat.info/"
   ]
  },
  {
   "cell_type": "markdown",
   "metadata": {
    "colab_type": "text",
    "id": "hF6-YhEimXZA"
   },
   "source": [
    "### Data types\n",
    "\n",
    "One good feature of python is **dynamically typed variable**. Usually, you do not need to declare the type explicitly. But understanding what kind of basic data types is helpful for understanding python language.\n",
    "\n",
    "Read more python data types: https://www.w3schools.com/python/python_datatypes.asp"
   ]
  },
  {
   "cell_type": "markdown",
   "metadata": {
    "colab_type": "text",
    "id": "EmVRsTE_mXZC"
   },
   "source": [
    "#### Numeric type"
   ]
  },
  {
   "cell_type": "code",
   "execution_count": null,
   "metadata": {
    "colab": {},
    "colab_type": "code",
    "id": "95w5cYEMmXZE"
   },
   "outputs": [],
   "source": [
    "a = 1 # int\n",
    "print(a, type(a))\n",
    "\n",
    "b = float(a) #float\n",
    "print(b,type(b))\n",
    "\n",
    "c = str(a) #string\n",
    "print(c,type(c))\n",
    "\n",
    "d = bool(a) #bool\n",
    "print(d,type(d))\n"
   ]
  },
  {
   "cell_type": "markdown",
   "metadata": {
    "colab_type": "text",
    "id": "DVw8BCiqmXZK"
   },
   "source": [
    "#### Sequence type"
   ]
  },
  {
   "cell_type": "code",
   "execution_count": null,
   "metadata": {
    "colab": {},
    "colab_type": "code",
    "id": "3jHPzHPmmXZM"
   },
   "outputs": [],
   "source": [
    "range1 = range(0,5)\n",
    "print(range1,type(range1))\n",
    "\n",
    "list1 = [a,b,c] # list\n",
    "print(list1, type(list1))\n",
    "\n",
    "tuple1 = (a,b,c) #tuple\n",
    "print(tuple1, type(tuple1))\n",
    "\n",
    "list2 = list1 + list1; print(list2) # adding 2 list is their concatenation\n",
    "tuple2 = tuple1 + tuple1; print(tuple2) # adding 2 tuple is their concatenation\n",
    "\n",
    "list1[1] = 5; print(\"new list is\",list1) # item assignment is allowed\n",
    "\n",
    "# tuple1[0] = 5 # Uncomment this and it will throw an error (Item assignment not allowed in tuple)\n",
    "\n",
    "## You can use try except to handle exception: https://docs.python.org/2/tutorial/errors.html\n",
    "## uncomment this to check\n",
    "# import traceback\n",
    "# try:\n",
    "#     tuple1[0] = 5\n",
    "# except Exception:\n",
    "#     traceback.print_exc()\n",
    "    "
   ]
  },
  {
   "cell_type": "markdown",
   "metadata": {
    "colab_type": "text",
    "id": "CZTQDFXNmXZS"
   },
   "source": [
    "### Data Structure\n",
    "Read more: https://docs.python.org/2/tutorial/datastructures.html"
   ]
  },
  {
   "cell_type": "markdown",
   "metadata": {
    "colab_type": "text",
    "id": "nP_qsaZtmXZU"
   },
   "source": [
    "#### List"
   ]
  },
  {
   "cell_type": "code",
   "execution_count": null,
   "metadata": {
    "colab": {},
    "colab_type": "code",
    "id": "D9ISN0_OmXZV"
   },
   "outputs": [],
   "source": [
    "list3  = [a , 2, 2]; print(list3)\n",
    "\n",
    "list3.append(4);print(list3)\n",
    "\n",
    "index_of_4 = list3.index(4); print(\"index of 4 in list3 = \", index_of_4)\n",
    "count_2s = list3.count(2); print(\"count 2s in list3 = \", count_2s)\n",
    "\n",
    "list4 = [1]*10 # adding 2 list is their concatenation\n",
    "print(\"list4 = \",list4)\n",
    "print('length of list4='+str(len(list4))+'\\n')\n",
    "\n",
    "list5  = list(range1); print(\"list5=\",list5) #convert range1 to a list\n",
    "list6 = [['a','b','c'],list5]; print(\"This is a nested list=\",list6)\n"
   ]
  },
  {
   "cell_type": "markdown",
   "metadata": {
    "colab_type": "text",
    "id": "0htYREcfmXZZ"
   },
   "source": [
    "#### Dictionary"
   ]
  },
  {
   "cell_type": "code",
   "execution_count": null,
   "metadata": {
    "colab": {},
    "colab_type": "code",
    "id": "RuVOpjuwmXZb"
   },
   "outputs": [],
   "source": [
    "dict1 = {1:0 ,'a':1, \"john\":2}\n",
    "print(\"dictionary dict1\",dict1,'\\n')\n",
    "\n",
    "print(\"keys of dictionary dict1:\\n dict1.values()=\", dict1.keys(),'\\n')\n",
    "\n",
    "print(\"values of dictionary dict1:\\n dict1.values()=\", dict1.values(),'\\n')\n",
    "\n",
    "print(\"items of dictionary dict1:\\n dict1.items()=\", dict1.items(),'\\n')\n",
    "\n",
    "print(\"value of third key 'john' in dict1:\\n dict1['john']=\", dict1[\"john\"])\n",
    "\n",
    "dict1['mary'] = 'queen'; print(\"dict1 = \", dict1)"
   ]
  },
  {
   "cell_type": "markdown",
   "metadata": {
    "colab_type": "text",
    "id": "mq-DWV4umXZe"
   },
   "source": [
    "### Operators\n",
    "Read more: https://realpython.com/python-operators-expressions/"
   ]
  },
  {
   "cell_type": "markdown",
   "metadata": {
    "colab_type": "text",
    "id": "Gwysfi6cmXZf"
   },
   "source": [
    "#### Arithmetic Operators"
   ]
  },
  {
   "cell_type": "code",
   "execution_count": null,
   "metadata": {
    "colab": {},
    "colab_type": "code",
    "id": "wrJtzokNmXZg"
   },
   "outputs": [],
   "source": [
    "a = 13\n",
    "b = 5\n",
    "print(\"addition: a+b = \",a+b,'\\n')\n",
    "print(\"substraction: a-b = \",a-b,'\\n')\n",
    "print(\"multiplication: a*b = \",a*b,'\\n')\n",
    "print(\"division: a/b = \",a/b,'\\n')\n",
    "print(\"exponential: a**b=\",a**b,'\\n')\n",
    "print(\"modulus: a//b=\",a%b,'\\n')"
   ]
  },
  {
   "cell_type": "markdown",
   "metadata": {
    "colab_type": "text",
    "id": "hibo2jyYmXZk"
   },
   "source": [
    "#### Logical Operators"
   ]
  },
  {
   "cell_type": "code",
   "execution_count": null,
   "metadata": {
    "colab": {},
    "colab_type": "code",
    "id": "w9fY3s8KmXZl"
   },
   "outputs": [],
   "source": [
    "print(a > 5 and   b < 10) # logical 'and'\n",
    "print(a > 5 or   b < 2) # logical 'or'"
   ]
  },
  {
   "cell_type": "markdown",
   "metadata": {
    "colab_type": "text",
    "id": "t7T6mjUgmXZp"
   },
   "source": [
    "### Loops\n",
    "#### for loop\n",
    "Read more: https://www.w3schools.com/python/python_for_loops.asp"
   ]
  },
  {
   "cell_type": "code",
   "execution_count": null,
   "metadata": {
    "colab": {},
    "colab_type": "code",
    "id": "CBTmOINjmXZp"
   },
   "outputs": [],
   "source": [
    "for i in range(0,10): # for elements in the range(0,10)\n",
    "    print(i)"
   ]
  },
  {
   "cell_type": "code",
   "execution_count": null,
   "metadata": {
    "colab": {},
    "colab_type": "code",
    "id": "DsHF8HWLmXZt"
   },
   "outputs": [],
   "source": [
    "temp_list = [2,4,6]\n",
    "for i in temp_list: #for elements in the list temp_list \n",
    "    print(i)"
   ]
  },
  {
   "cell_type": "markdown",
   "metadata": {
    "colab_type": "text",
    "id": "CbvsLB3hmXZw"
   },
   "source": [
    "#### while loop\n",
    "Read more: https://www.w3schools.com/python/python_while_loops.asp"
   ]
  },
  {
   "cell_type": "code",
   "execution_count": null,
   "metadata": {
    "colab": {},
    "colab_type": "code",
    "id": "C5MXfhq2mXZx"
   },
   "outputs": [],
   "source": [
    "i= 0\n",
    "while i <=10: # while something is true\n",
    "    print(i)\n",
    "    i+=1 # always give a condition to break the loop"
   ]
  },
  {
   "cell_type": "markdown",
   "metadata": {
    "colab_type": "text",
    "id": "Y3Uwx0p8mXZ0"
   },
   "source": [
    "### Conditions\n",
    "\n",
    "#### if else\n",
    "Read more: https://docs.python.org/2/tutorial/controlflow.html"
   ]
  },
  {
   "cell_type": "code",
   "execution_count": null,
   "metadata": {
    "colab": {},
    "colab_type": "code",
    "id": "KYkcU5HumXZ1"
   },
   "outputs": [],
   "source": [
    "a,b=13,5\n",
    "\n",
    "x = 7\n",
    "\n",
    "if x >= a:\n",
    "    print(\" first condition: x >='a' \\n\")\n",
    "elif x>=b:\n",
    "    print(\"second condition: x < 'a' but >= 'b' \\n\")\n",
    "else:\n",
    "    print(\"last condition: x < 'a' and 'b'\\n\")"
   ]
  },
  {
   "cell_type": "markdown",
   "metadata": {
    "colab_type": "text",
    "id": "T5hmg11ymXZ5"
   },
   "source": [
    "### Functions\n",
    "Read more: https://docs.python.org/3.7/tutorial/controlflow.html#defining-functions"
   ]
  },
  {
   "cell_type": "code",
   "execution_count": null,
   "metadata": {
    "colab": {},
    "colab_type": "code",
    "id": "4yEM7RrKmXZ5"
   },
   "outputs": [],
   "source": [
    "def my_function(input_argument):\n",
    "    local_var = 10\n",
    "    some_operation = local_var + input_argument\n",
    "    return some_operation\n",
    "\n",
    "print(my_function(23))"
   ]
  },
  {
   "cell_type": "markdown",
   "metadata": {
    "colab_type": "text",
    "id": "0wY4A7aemXZ-"
   },
   "source": [
    "### Class\n",
    "Read more: https://docs.python.org/3.7/tutorial/classes.html"
   ]
  },
  {
   "cell_type": "code",
   "execution_count": null,
   "metadata": {
    "colab": {},
    "colab_type": "code",
    "id": "1-BODPw3mXZ_"
   },
   "outputs": [],
   "source": [
    "class student:\n",
    "    def __init__(self, name,age): #init method\n",
    "        self.name = name #attributes\n",
    "        self.age = age\n",
    "    def increase_age_by(self, add_age): #method # note that the first argument is self\n",
    "        new_age = self.age + add_age\n",
    "        #self.age = new_age #you can update the attribute values here as well\n",
    "        return new_age\n",
    "    \n",
    "student1 = student(\"John\",10)\n",
    "print(\"student1:\",student1)\n",
    "print(\"student1.name:\",student1.name, \"    student1.age:\",student1.age)\n",
    "print(\"\\n\")\n",
    "\n",
    "student_new_age = student1.increase_age_by(23)\n",
    "\n",
    "print(\"student_new_age:\", student_new_age)\n",
    "print(\"student1.age\",student1.age) #this would change if you have updated attribute value in increase_by_age method."
   ]
  },
  {
   "cell_type": "markdown",
   "metadata": {
    "colab_type": "text",
    "id": "_pN6LD04mXaD"
   },
   "source": [
    "### Important python libraries for this course\n",
    "\n",
    "#### Numpy : https://numpy.org/\n",
    "[Wiki](https://en.wikipedia.org/wiki/NumPy): NumPy is a library for the Python programming language, adding support for large, multi-dimensional arrays and matrices, along with a large collection of high-level mathematical functions to operate on these arrays.\n",
    "\n",
    "*Installation*\n",
    " - for python2.x: pip install numpy\n",
    " - for python3.x: pip3 install numpy"
   ]
  },
  {
   "cell_type": "code",
   "execution_count": null,
   "metadata": {
    "colab": {},
    "colab_type": "code",
    "id": "SRpKKDUBmXaE"
   },
   "outputs": [],
   "source": [
    "#!pip install numpy"
   ]
  },
  {
   "cell_type": "code",
   "execution_count": null,
   "metadata": {
    "colab": {},
    "colab_type": "code",
    "id": "FM5r3m4smXaH"
   },
   "outputs": [],
   "source": [
    "import numpy as np # importing numpy library\n",
    "\n",
    "a = [1, 2, 3] # list\n",
    "b = np.array(a) # a np array\n",
    "\n",
    "print(\"a list:\", a,\"\\n\",\"an np array\", b, type(b))\n",
    "\n",
    "print(\"b.ndim:\", b.ndim, \"    b.shape:\", b.shape, \"    b.dtype\",b.dtype,\"    b.size\",b.size)"
   ]
  },
  {
   "cell_type": "code",
   "execution_count": null,
   "metadata": {
    "colab": {},
    "colab_type": "code",
    "id": "74Nf4MHJmXaK"
   },
   "outputs": [],
   "source": [
    "#Indexing\n",
    "\n",
    "c = np.array([a,a])\n",
    "print(\"c.shape:\",c.shape,\"\\n\") #print the shape of the array\n",
    "print(\"c:\",c,\"\\n\") #print the 2d array c\n",
    "print(\"c[0]:\",c[0],\"\\n\") #print the first row along 0th dimension\n",
    "print(\"c[0,2]:\", c[0,2],\"\\n\")"
   ]
  },
  {
   "cell_type": "code",
   "execution_count": null,
   "metadata": {
    "colab": {},
    "colab_type": "code",
    "id": "RYXoQvLFmXaN"
   },
   "outputs": [],
   "source": [
    "#operations\n",
    "d = c+1; print(\"d=c+1:\\n\",d) #adding a scalar and an array\n",
    "\n",
    "e = c+d ; print(\"e=c+d:\\n\",e) #adding two arrays \n",
    "# Recall addition \"+\" of two list concatenates them\n",
    "\n",
    "# Try other arithmetic operations\n",
    "\n",
    "# --- your code goes here -----#\n",
    "\n"
   ]
  },
  {
   "cell_type": "markdown",
   "metadata": {
    "colab_type": "text",
    "id": "_i-bNNf2mXaQ"
   },
   "source": [
    "#### reshape (source: https://docs.scipy.org/doc/numpy/reference/generated/numpy.reshape.html)\n",
    "Gives a new shape to an array without changing its data."
   ]
  },
  {
   "cell_type": "code",
   "execution_count": null,
   "metadata": {
    "colab": {},
    "colab_type": "code",
    "id": "j5cqjRSXmXaR"
   },
   "outputs": [],
   "source": [
    "f = np.reshape(c,(1,6))\n",
    "print(\"f.shape:\",f.shape)\n"
   ]
  },
  {
   "cell_type": "markdown",
   "metadata": {
    "colab_type": "text",
    "id": "L9STpDxdmXaT"
   },
   "source": [
    "#### transpose ( source: https://docs.scipy.org/doc/numpy/reference/generated/numpy.transpose.html)\n",
    "Use transpose(a, argsort(axes)) to invert the transposition of tensors when using the axes keyword argument.\n",
    "Transposing a 1-D array returns an unchanged view of the original array."
   ]
  },
  {
   "cell_type": "code",
   "execution_count": null,
   "metadata": {
    "colab": {},
    "colab_type": "code",
    "id": "srZLw4dAmXaU"
   },
   "outputs": [],
   "source": [
    "g = np.transpose(f,[1,0])\n",
    "print(\"g.shape:\",g.shape)\n"
   ]
  },
  {
   "cell_type": "markdown",
   "metadata": {
    "colab_type": "text",
    "id": "b8nMEKnCmXaX"
   },
   "source": [
    "#### Expand dims (source: https://docs.scipy.org/doc/numpy/reference/generated/numpy.expand_dims.html)\n",
    "#Expand the shape of an array.\n",
    "#Insert a new axis that will appear at the axis position in the expanded array shape."
   ]
  },
  {
   "cell_type": "code",
   "execution_count": null,
   "metadata": {
    "colab": {},
    "colab_type": "code",
    "id": "JXKMp7lAmXaY"
   },
   "outputs": [],
   "source": [
    "print(\"c.shape\",c.shape)\n",
    "\n",
    "h = np.expand_dims(c,axis=0)\n",
    "print(\"h.shape\",h.shape)\n",
    "\n",
    "i = np.expand_dims(c,axis=1) # You can change the axis to slect different dimensions to expand\n",
    "print(\"i.shape\",i.shape)\n",
    "\n",
    "j = np.expand_dims(c,axis=-1) # You can change the axis to slect different dimensions to expand\n",
    "print(\"j.shape\",j.shape)"
   ]
  },
  {
   "cell_type": "markdown",
   "metadata": {
    "colab_type": "text",
    "id": "LW0_tGU6mXab"
   },
   "source": [
    "#### dot product (source: https://docs.scipy.org/doc/numpy/reference/generated/numpy.dot.html)\n",
    "Dot product of two arrays. Specifically,\n",
    "\n",
    "If both a and b are 1-D arrays, it is the inner product of vectors (without complex conjugation).\n",
    "\n",
    "If both a and b are 2-D arrays, it is matrix multiplication, but using matmul or a @ b is preferred.\n",
    "\n",
    "If either a or b is 0-D (scalar), it is equivalent to multiply and using numpy.multiply(a, b) or a * b is preferred.\n",
    "\n",
    "If a is an N-D array and b is a 1-D array, it is a sum of product over the last axis of a and b.\n",
    "\n",
    "If a is an N-D array and b is an M-D array (where M>=2), it is a sum of product over the last axis of a and the second-to-last axis of b:"
   ]
  },
  {
   "cell_type": "code",
   "execution_count": null,
   "metadata": {
    "colab": {},
    "colab_type": "code",
    "id": "Ul4eeFBymXac"
   },
   "outputs": [],
   "source": [
    "print(\"c.shape:\", c.shape)\n",
    "print(\"d.shape:\", d.shape)\n",
    "print(\"d.T.shape:\", d.T.shape)\n",
    "\n",
    "k = np.dot(c,d.T) # shapes (2x3) (3x2)\n",
    "print(\"k.shape:\",k.shape)\n"
   ]
  },
  {
   "cell_type": "markdown",
   "metadata": {
    "colab_type": "text",
    "id": "qsBkiA0nmXae"
   },
   "source": [
    "#### convert an array to list (source: https://docs.scipy.org/doc/numpy/reference/generated/numpy.ndarray.tolist.html)\n",
    "Return the array as an a.ndim-levels deep nested list of Python scalars."
   ]
  },
  {
   "cell_type": "code",
   "execution_count": null,
   "metadata": {
    "colab": {},
    "colab_type": "code",
    "id": "VNCmUWgtmXaf"
   },
   "outputs": [],
   "source": [
    "print(\"c:\",c)\n",
    "print(\"\\n\")\n",
    "c_list = c.tolist()\n",
    "print(\"c_list\",c_list) #this will print the nested list"
   ]
  },
  {
   "cell_type": "code",
   "execution_count": null,
   "metadata": {
    "colab": {},
    "colab_type": "code",
    "id": "lIgXQqE8XgSo"
   },
   "outputs": [],
   "source": []
  },
  {
   "cell_type": "markdown",
   "metadata": {
    "colab_type": "text",
    "id": "pKZAU2-smXai"
   },
   "source": [
    "##### NOTE: Also check **NumPy Reference**: https://docs.scipy.org/doc/numpy/reference/ for details on other useful funcitons in NumPy."
   ]
  }
 ],
 "metadata": {
  "colab": {
   "collapsed_sections": [],
   "name": "Basics_Python.ipynb",
   "provenance": []
  },
  "kernelspec": {
   "display_name": "Python 3 (ipykernel)",
   "language": "python",
   "name": "python3"
  },
  "language_info": {
   "codemirror_mode": {
    "name": "ipython",
    "version": 3
   },
   "file_extension": ".py",
   "mimetype": "text/x-python",
   "name": "python",
   "nbconvert_exporter": "python",
   "pygments_lexer": "ipython3",
   "version": "3.8.9"
  }
 },
 "nbformat": 4,
 "nbformat_minor": 4
}
