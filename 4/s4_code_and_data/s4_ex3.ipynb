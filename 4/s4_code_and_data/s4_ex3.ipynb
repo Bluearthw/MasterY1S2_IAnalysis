{
 "cells": [
  {
   "cell_type": "code",
   "execution_count": null,
   "metadata": {},
   "outputs": [],
   "source": [
    "import cv2\n",
    "import numpy as np\n",
    "import matplotlib.pyplot as plt\n",
    "\n",
    "def drawKeyPts_thick(im,keyp,col,th):\n",
    "    for curKey in keyp:\n",
    "        x=int(curKey.pt[0])\n",
    "        y=int(curKey.pt[1])\n",
    "        size = int(curKey.size)\n",
    "        cv2.circle(im,(x,y),size, col,thickness=th, lineType=8, shift=0)    \n",
    "    return im  \n",
    "    "
   ]
  },
  {
   "cell_type": "markdown",
   "metadata": {},
   "source": [
    "### Question 3: SIFT Features and Matching"
   ]
  },
  {
   "cell_type": "code",
   "execution_count": null,
   "metadata": {},
   "outputs": [],
   "source": [
    "img1 = cv2.imread('./images/ucla/img1.JPG')\n",
    "plt.imshow(cv2.cvtColor(img1, cv2.COLOR_BGR2RGB))"
   ]
  },
  {
   "cell_type": "code",
   "execution_count": null,
   "metadata": {},
   "outputs": [],
   "source": [
    "# Convert to grayscale image\n",
    "I = cv2.cvtColor(img1, cv2.COLOR_BGR2GRAY)\n",
    "\n",
    "# Compute the SIFT keypoints and descriptors\n",
    "sift = cv2.SIFT_create()\n",
    "kp, d = sift.detectAndCompute(I, None)\n",
    "\n",
    "# Visualize 50 randomly selected keypoints\n",
    "sel = np.random.choice(range(len(kp)), size=50, replace=False)\n",
    "plt.imshow(cv2.drawKeypoints(img1, [kp[i] for i in sel], None, flags=cv2.DRAW_MATCHES_FLAGS_DRAW_RICH_KEYPOINTS)[:,:,::-1])"
   ]
  },
  {
   "cell_type": "code",
   "execution_count": null,
   "metadata": {},
   "outputs": [],
   "source": [
    "# Visualize specific keypoint positions\n",
    "h3 = []\n",
    "for i in sel[:3]: # here we use first three\n",
    "    h3.append(drawKeyPts_thick(np.copy(img1), [kp[i]], (0,0,255), 5))\n",
    "    # h3.append(cv2.drawKeypoints(img1, [kp[i]], None, flags=cv2.DRAW_MATCHES_FLAGS_DRAW_RICH_KEYPOINTS)[:,:,::-1])\n",
    "plt.imshow(np.concatenate(h3, axis=1)[:,:,::-1])"
   ]
  },
  {
   "cell_type": "markdown",
   "metadata": {},
   "source": [
    "### OpenCV Matching function\n",
    "\n",
    "The result of matches = bf.match(des1,des2) line is a list of DMatch objects. This DMatch object has following attributes:\n",
    "\n",
    "* DMatch.distance - Distance between descriptors. The lower, the better it is.\n",
    "* DMatch.trainIdx - Index of the descriptor in train descriptors\n",
    "* DMatch.queryIdx - Index of the descriptor in query descriptors\n",
    "* DMatch.imgIdx - Index of the train image."
   ]
  },
  {
   "cell_type": "code",
   "execution_count": null,
   "metadata": {
    "id": "8yo8iReYvSBG"
   },
   "outputs": [],
   "source": [
    "# TODO: Load the second image and calculate its descriptors\n",
    "img2 = #\n",
    "\n",
    "# Convert to grayscale image\n",
    "I2 = #\n",
    "\n",
    "# TODO: Compute the SIFT keypoints and descriptors\n",
    "kp2, d2 = #\n",
    "\n",
    "# For each SIFT descriptor in img1 find its correspondence in img2\n",
    "bf = cv2.BFMatcher(cv2.NORM_L2, crossCheck=True)\n",
    "matches = bf.match(d, d2)\n",
    "matches = sorted(matches, key=lambda x: x.distance)\n",
    "\n",
    "# TODO:Store the matched keypoints from both images; use kp[i].pt to find the location of the key point\n",
    "X1 = #\n",
    "X2 = #\n",
    "\n",
    "# TODO: Show the correspondences between the two images; Use cv2.drawMatches and plt.imshow\n",
    "plt.figure(5)\n",
    "############\n"
   ]
  }
 ],
 "metadata": {
  "colab": {
   "authorship_tag": "ABX9TyN4Vjx2vIRK+/Dtk8fcv5JU",
   "provenance": []
  },
  "kernelspec": {
   "display_name": "Python 3 (ipykernel)",
   "language": "python",
   "name": "python3"
  },
  "language_info": {
   "codemirror_mode": {
    "name": "ipython",
    "version": 3
   },
   "file_extension": ".py",
   "mimetype": "text/x-python",
   "name": "python",
   "nbconvert_exporter": "python",
   "pygments_lexer": "ipython3",
   "version": "3.10.13"
  }
 },
 "nbformat": 4,
 "nbformat_minor": 4
}
