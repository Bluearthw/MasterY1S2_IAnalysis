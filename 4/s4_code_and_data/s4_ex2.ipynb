{
 "cells": [
  {
   "cell_type": "code",
   "execution_count": null,
   "metadata": {
    "id": "UuSJhvF8buhE"
   },
   "outputs": [],
   "source": [
    "# ## Mount google drive: If your dataset is saved on google drive\n",
    "# from google.colab import drive\n",
    "# drive.mount('/content/drive')"
   ]
  },
  {
   "cell_type": "markdown",
   "metadata": {},
   "source": [
    "### Utils functions used in this exercise"
   ]
  },
  {
   "cell_type": "code",
   "execution_count": null,
   "metadata": {},
   "outputs": [],
   "source": [
    "import cv2\n",
    "import numpy as np\n",
    "from scipy.spatial.distance import cdist\n",
    "import matplotlib.pyplot as plt\n",
    "from scipy import ndimage"
   ]
  },
  {
   "cell_type": "code",
   "execution_count": null,
   "metadata": {},
   "outputs": [],
   "source": [
    "def displaymatches(img1, px1, py1, img2, px2, py2, Idx, Dist, N):\n",
    "    # sort the matches according to their scores\n",
    "    sorted_indices = np.argsort(Dist)\n",
    "    sorted_dist = np.sort(Dist)\n",
    "\n",
    "    # visualize the N best matches\n",
    "    h1 = img1 \n",
    "    h2 = img2\n",
    "\n",
    "    for i in range(N):\n",
    "        print('Match {}: dist={}'.format(i+1, sorted_dist[i]))\n",
    "        plt.imshow(h1[:,:,::-1])\n",
    "        plt.plot(px1[sorted_indices[i]], py1[sorted_indices[i]], 'ro')\n",
    "        plt.text(px1[sorted_indices[i]]+5, py1[sorted_indices[i]]+14, str(i+1), color='r', fontweight='bold')\n",
    "        plt.show()\n",
    "\n",
    "        plt.imshow(h2[:,:,::-1])\n",
    "        plt.plot(px2[Idx[sorted_indices[i]]], py2[Idx[sorted_indices[i]]], 'ro')\n",
    "        plt.text(px2[Idx[sorted_indices[i]]]+5, py2[Idx[sorted_indices[i]]]+14, str(i+1), color='r', fontweight='bold')\n",
    "        plt.show()\n",
    "\n",
    "def non_max_suppression(imgDet, threshold):\n",
    "    height, width = imgDet.shape\n",
    "\n",
    "    imMax = np.zeros_like(imgDet)\n",
    "\n",
    "    for i in range(1, height - 1):\n",
    "        for j in range(1, width - 1):\n",
    "            # check if the current pixel is maximum in its 8 neighbourhood\n",
    "            if imgDet[i, j] >= imgDet[i-1:i+2, j-1:j+2].max() and \\\n",
    "               imgDet[i, j] > threshold:\n",
    "                imMax[i, j] = imgDet[i, j]\n",
    "\n",
    "    coordinates = np.where(imMax!=0)\n",
    "    px, py = coordinates[1], coordinates[0]\n",
    "\n",
    "    return px, py"
   ]
  },
  {
   "cell_type": "markdown",
   "metadata": {},
   "source": [
    "## Question2: Matching"
   ]
  },
  {
   "cell_type": "markdown",
   "metadata": {},
   "source": [
    "### Harris corner response function"
   ]
  },
  {
   "cell_type": "code",
   "execution_count": null,
   "metadata": {
    "id": "5IXUSFNeg_-Q"
   },
   "outputs": [],
   "source": [
    "# Compute Harris corner response function\n",
    "def gauss(x, sigma):\n",
    "    G = #TODO: compute the gaussian(mean=0, sig=sigma) for x and put the results in \"G\" variable\n",
    "    return G\n",
    "\n",
    "def gaussdx(x, sigma):\n",
    "    D = #TODO: compute the derivative of gaussian(mean=0, sig=sigma) for x and put the results in \"D\" variable\n",
    "    return D\n",
    "\n",
    "def compute_harris(img, sigma1, sigma2):\n",
    "    ResImage = # TODO: Use the one from ex1.\n",
    "    return ResImage\n"
   ]
  },
  {
   "cell_type": "markdown",
   "metadata": {},
   "source": [
    "### r/g color histogram descriptor"
   ]
  },
  {
   "cell_type": "code",
   "execution_count": null,
   "metadata": {
    "id": "H0EcdPQEVi8V"
   },
   "outputs": [],
   "source": [
    "def histrg(img, bins):\n",
    "    # define a 2D histogram with \"bins^2\" number of entries\n",
    "    h = np.zeros((bins,bins))\n",
    "    \n",
    "    # execute the loop for each pixel in the image\n",
    "    for i in range(img.shape[0]):\n",
    "        for j in range(img.shape[1]):\n",
    "            \n",
    "            # increment a histogram bin which corresponds to the value \n",
    "            # of pixel i,j; h(r,g)\n",
    "            R = img[i,j,0]\n",
    "            G = img[i,j,1]\n",
    "            B = img[i,j,2]\n",
    "            \n",
    "            r = int(np.floor(R / (R + G + B + 1e-10) * bins)) + 1\n",
    "            g = int(np.floor(G / (R + G + B + 1e-10) * bins)) + 1\n",
    "            if r == bins + 1:\n",
    "                r = bins\n",
    "            if g == bins + 1:\n",
    "                g = bins\n",
    "                \n",
    "            h[r-1, g-1] += 1\n",
    "\n",
    "    # normalize the histogram such that its integral (sum) is equal 1\n",
    "    h = h / np.sum(h)\n",
    "    h = h.reshape(-1)\n",
    "\n",
    "    return h\n",
    "\n",
    "def descriptors_rg(img, px, py, m, bins):\n",
    "    img = img.astype(np.float32)\n",
    "    rad = int((m-1)/2)\n",
    "    h, w, c = img.shape\n",
    "    D = np.zeros((len(px), bins**2))\n",
    "\n",
    "    for i in range(len(px)):\n",
    "        minx = max(px[i]-rad, 0)\n",
    "        maxx = min(px[i]+rad+1, w)\n",
    "        miny = max(py[i]-rad, 0)\n",
    "        maxy = min(py[i]+rad+1, h)\n",
    "\n",
    "        imgWin = img[miny:maxy, minx:maxx, :]\n",
    "        hist = histrg(imgWin, bins)\n",
    "        D[i, :] = hist.flatten()\n",
    "\n",
    "    return D"
   ]
  },
  {
   "cell_type": "markdown",
   "metadata": {},
   "source": [
    "### dx/dy histogram descriptor"
   ]
  },
  {
   "cell_type": "code",
   "execution_count": null,
   "metadata": {
    "id": "zJQQGloWoslp"
   },
   "outputs": [],
   "source": [
    "from scipy.signal import convolve2d\n",
    "\n",
    "def histdxdy(img, sigma, bins):\n",
    "    # compute the first derivatives\n",
    "    x = np.arange(np.floor(-3.0 * sigma + 0.5), np.floor(3.0 * sigma + 0.5) + 1)\n",
    "    G = gauss(x, sigma)\n",
    "    D = gaussdx(x, sigma)\n",
    "    g = np.outer(G, D)\n",
    "\n",
    "    # compute Dx\n",
    "    imgDx = convolve2d(img, g, mode='same')\n",
    "    # compute Dy\n",
    "    imgDy = convolve2d(img, np.transpose(g), mode='same')\n",
    "\n",
    "    # quantize the images to \"bins\" number of values\n",
    "    a = imgDx.min(); b = imgDx.max(); imgDx = 159/(b-a)*(imgDx-a)\n",
    "    a = imgDy.min(); b = imgDy.max(); imgDy = 159/(b-a)*(imgDy-a)\n",
    "    imgDx = np.floor(imgDx*(bins/160)) + 1\n",
    "    imgDy = np.floor(imgDy*(bins/160)) + 1\n",
    "\n",
    "    # define a 2D histogram with \"bins^2\" number of entries\n",
    "    h = np.zeros((bins, bins))\n",
    "\n",
    "    # execute the loop for each pixel in the image\n",
    "    for i in range(img.shape[0]):\n",
    "        for j in range(img.shape[1]):\n",
    "            # increment a histogram bin which corresponds to the value\n",
    "            # of pixel i, j\n",
    "            dx = int(imgDx[i, j])\n",
    "            dy = int(imgDy[i, j])\n",
    "            h[dx - 1, dy - 1] += 1\n",
    "\n",
    "    # normalize the histogram such that its integral (sum) is equal 1\n",
    "    h = h / np.sum(h)\n",
    "    h = np.reshape(h, (bins ** 2, 1))\n",
    "    return h\n",
    "\n",
    "def descriptors_dxdy(img, px, py, m, sigma, bins):\n",
    "    img = img.astype(float)\n",
    "    rad = int((m-1)/2)\n",
    "    h, w = img.shape\n",
    "    D = np.zeros((len(px), bins**2))\n",
    "\n",
    "    for i in range(len(px)):\n",
    "        minx = max(px[i]-rad, 0)\n",
    "        maxx = min(px[i]+rad+1, w)\n",
    "        miny = max(py[i]-rad, 0)\n",
    "        maxy = min(py[i]+rad+1, h)\n",
    "\n",
    "        imgWin = img[miny:maxy, minx:maxx]\n",
    "        hist = histdxdy(imgWin, sigma, bins)\n",
    "        D[i, :] = hist.reshape(-1)\n",
    "\n",
    "    return D"
   ]
  },
  {
   "cell_type": "markdown",
   "metadata": {},
   "source": [
    "### Implement your pattern matching here:"
   ]
  },
  {
   "cell_type": "code",
   "execution_count": null,
   "metadata": {},
   "outputs": [],
   "source": [
    "def findnn(D1, D2):\n",
    "    #TODO:find nearest neighbour index and corresponding distance. hint:use \"dist = np.linalg.norm(.)\" function for computing euclidean distance.\n",
    "    return Idx, Dist"
   ]
  },
  {
   "cell_type": "markdown",
   "metadata": {},
   "source": [
    "### Work with your images here:"
   ]
  },
  {
   "cell_type": "code",
   "execution_count": null,
   "metadata": {
    "id": "XQBxFmRJbxYA"
   },
   "outputs": [],
   "source": [
    "# Read the images\n",
    "img1 = cv2.imread('./images/ucla/img1.JPG')\n",
    "img2 = cv2.imread('./images/ucla/img2.JPG')\n",
    "\n",
    "\n",
    "sigma1 = 2.0\n",
    "sigma2 = 1.6\n",
    "threshold = 1000\n",
    "\n",
    "# parameters for regional descriptors\n",
    "m = 41\n",
    "bins = 16\n",
    "\n",
    "# estimate the Harris keypoints for first image\n",
    "ImageRes1 = compute_harris(img1, sigma1, sigma2)\n",
    "px1, py1 = non_max_suppression(ImageRes1, threshold)\n",
    "\n",
    "# estimate the Harris keypoints for second image\n",
    "ImageRes2 = compute_harris(img2, sigma1, sigma2)\n",
    "px2, py2 = non_max_suppression(ImageRes2, threshold)\n",
    "\n",
    "# regional descriptors\n",
    "D1 = descriptors_rg(img1, px1, py1, m, bins)\n",
    "D2 = descriptors_rg(img2, px2, py2, m, bins)\n",
    "\n",
    "# You can try another descriptor here\n",
    "# D1 = descriptors_dxdy(cv2.cvtColor(img1, cv2.COLOR_BGR2GRAY), px1, py1, m, sigma2, bins)\n",
    "# D2 = descriptors_dxdy(cv2.cvtColor(img2, cv2.COLOR_BGR2GRAY), px2, py2, m, sigma2, bins)\n",
    "\n",
    "# find best matching points using Euclidean distance\n",
    "match_index, match_dist = findnn(D1, D2)\n",
    "\n",
    "# visualization of matching\n",
    "N = 8\n",
    "displaymatches(img1, px1, py1, img2, px2, py2, match_index, match_dist, N)\n"
   ]
  },
  {
   "cell_type": "code",
   "execution_count": null,
   "metadata": {},
   "outputs": [],
   "source": []
  }
 ],
 "metadata": {
  "colab": {
   "authorship_tag": "ABX9TyMyyOIVmacx5eo4EcJ/NmBn",
   "provenance": []
  },
  "kernelspec": {
   "display_name": "Python 3 (ipykernel)",
   "language": "python",
   "name": "python3"
  },
  "language_info": {
   "codemirror_mode": {
    "name": "ipython",
    "version": 3
   },
   "file_extension": ".py",
   "mimetype": "text/x-python",
   "name": "python",
   "nbconvert_exporter": "python",
   "pygments_lexer": "ipython3",
   "version": "3.10.13"
  }
 },
 "nbformat": 4,
 "nbformat_minor": 4
}
