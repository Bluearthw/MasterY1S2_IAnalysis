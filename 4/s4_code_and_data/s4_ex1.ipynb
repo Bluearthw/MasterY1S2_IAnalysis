{
 "cells": [
  {
   "cell_type": "code",
   "execution_count": null,
   "metadata": {
    "id": "UuSJhvF8buhE"
   },
   "outputs": [],
   "source": [
    "# ## Mount google drive: If your dataset is saved on google drive\n",
    "# from google.colab import drive\n",
    "# drive.mount('/content/drive')"
   ]
  },
  {
   "cell_type": "markdown",
   "metadata": {},
   "source": [
    "### Question 1 - Harris Detector\n",
    "\n",
    "Eigenvalues of autocorrelation matrix C:\n",
    "\n",
    "<img src=\"assets/harris_eigenvalue.png\" alt=\"drawing\" width=\"300\"/>\n",
    "\n",
    "When represents by response function we get:\n",
    "\n",
    "<img src=\"assets/CMU-16-385-lecnote.png\" alt=\"drawing\" width=\"500\"/>"
   ]
  },
  {
   "cell_type": "code",
   "execution_count": null,
   "metadata": {
    "id": "5IXUSFNeg_-Q"
   },
   "outputs": [],
   "source": [
    "import cv2\n",
    "import numpy as np\n",
    "import matplotlib.pyplot as plt\n",
    "\n",
    "# Reading images (work with the checkboard.jpg or checkboard2.jpg first to verify your code)\n",
    "# img1 = cv2.imread('./images/graf.png')\n",
    "img1 = cv2.imread('./images/checkboard.jpg') # loaded in BGR\n",
    "plt.imshow(img1[:,:,::-1]) # Plot should change to RGB"
   ]
  },
  {
   "cell_type": "code",
   "execution_count": null,
   "metadata": {
    "id": "Uu09h9kzgwmT"
   },
   "outputs": [],
   "source": [
    "# Estimate the Harris keypoints and overlay them on the image\n",
    "sigma1 = 2.6\n",
    "sigma2 = 1.6\n",
    "\n",
    "def gauss(x, sigma):\n",
    "    G = #TODO: compute the gaussian(mean=0, sig=sigma) for x and put the results in \"G\" variable\n",
    "    return G\n",
    "\n",
    "def gaussdx(x, sigma):\n",
    "    D = #TODO: compute the derivative of gaussian(mean=0, sig=sigma) for x and put the results in \"D\" variable\n",
    "    return D\n",
    "\n",
    "def compute_harris(img, sigma1, sigma2):\n",
    "    if img.ndim == 3:\n",
    "        img = cv2.cvtColor(img, cv2.COLOR_BGR2GRAY)\n",
    "    img = np.double(img)\n",
    "\n",
    "    # First we make a 2D \"derivative of gaussian\" filter\n",
    "    x = np.arange(np.floor(-3.0 * sigma1 + 0.5), np.floor(3.0 * sigma1 + 0.5) + 1)\n",
    "    G = gauss(x,sigma1)\n",
    "    D = gaussdx(x,sigma1)\n",
    "    g = G * D.reshape(-1, 1)\n",
    "\n",
    "    # Compute Dx\n",
    "    imgDx = cv2.filter2D(img, -1, g, borderType=cv2.BORDER_REFLECT)\n",
    "\n",
    "    # Compute Dy\n",
    "    imgDy = cv2.filter2D(img, -1, g.T, borderType=cv2.BORDER_REFLECT)\n",
    "\n",
    "    # Gaussian 3x3 filter\n",
    "    ksize = (3, 3)\n",
    "    sigma = sigma2\n",
    "    \n",
    "    #TODO: weighted by gaussian with sigma2, Hint: use cv2.GaussianBlur\n",
    "    \n",
    "    Cxx = #\n",
    "    Cyy = #\n",
    "    Cxy = #\n",
    "    # Compute Harris corner response function\n",
    "    k = 0.04\n",
    "    detC = #TODO: Use equation in the PDF\n",
    "    traceC = #TODO: Use equation in the PDF\n",
    "    ResImage = #TODO: put the final results in \"ResImage\" variable\n",
    "\n",
    "    return ResImage\n"
   ]
  },
  {
   "cell_type": "code",
   "execution_count": null,
   "metadata": {
    "id": "ZUTeO8Irg9a4"
   },
   "outputs": [],
   "source": [
    "ImageRes = compute_harris(img1, sigma1, sigma2)\n",
    "\n",
    "# non-maximum suppression\n",
    "threshold = 100\n",
    "loc = np.where(ImageRes > threshold)\n",
    "py, px = loc[0], loc[1]\n",
    "\n",
    "# draw points\n",
    "img1_copy = img1.copy()\n",
    "for x, y in zip(px, py):\n",
    "    cv2.circle(img1_copy, (x, y), 3, (0, 0, 255), -1)\n",
    "plt.imshow(img1_copy)\n",
    "\n",
    "\n",
    "print('Parameters: sigma1 = {}, sigma2 = {}, threshold = {}'.format(sigma1, sigma2, threshold))\n",
    "\n",
    "# Do you think it is possible to instead of defining a threshold for\n",
    "# non-maximum suppression, it is possible to select N highest scoring\n",
    "# points?"
   ]
  },
  {
   "cell_type": "code",
   "execution_count": null,
   "metadata": {},
   "outputs": [],
   "source": []
  }
 ],
 "metadata": {
  "colab": {
   "authorship_tag": "ABX9TyMPDMBXF3aQzyvqM/5I5JqN",
   "provenance": []
  },
  "kernelspec": {
   "display_name": "Python 3 (ipykernel)",
   "language": "python",
   "name": "python3"
  },
  "language_info": {
   "codemirror_mode": {
    "name": "ipython",
    "version": 3
   },
   "file_extension": ".py",
   "mimetype": "text/x-python",
   "name": "python",
   "nbconvert_exporter": "python",
   "pygments_lexer": "ipython3",
   "version": "3.10.13"
  }
 },
 "nbformat": 4,
 "nbformat_minor": 4
}
