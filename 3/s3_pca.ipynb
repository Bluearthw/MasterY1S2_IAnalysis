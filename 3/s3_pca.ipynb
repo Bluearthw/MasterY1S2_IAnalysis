{
 "cells": [
  {
   "cell_type": "code",
   "execution_count": null,
   "metadata": {
    "id": "yk41Fp6rnQYJ"
   },
   "outputs": [],
   "source": [
    "# Uncomment this if you are using Colab\n",
    "# ## Mount google drive: If your dataset is saved on google drive\n",
    "# from google.colab import drive\n",
    "# drive.mount('/content/drive')"
   ]
  },
  {
   "cell_type": "code",
   "execution_count": null,
   "metadata": {
    "id": "HPcSwStJm-rS"
   },
   "outputs": [],
   "source": [
    "import numpy as np\n",
    "from PIL import Image\n",
    "import matplotlib.pyplot as plt\n",
    "\n",
    "\n",
    "# Step 1: Load the images\n",
    "\n",
    "# b) Load the first image\n",
    "imFirst = np.array(Image.open('。/faces/s1/1.pgm'))\n",
    "imFirst = imFirst.astype('float32')\n",
    "imFirst /= 255.0\n",
    "imFirst = np.clip(imFirst, 0.0, 1.0)\n",
    "plt.imshow(imFirst, cmap='gray')\n",
    "plt.show()\n",
    "\n",
    "# c) Load the training images (40 persons X 7 images)\n",
    "nTrainImages = 40 * 7  # number of training images\n",
    "height, width = imFirst.shape  # The images have the same size. Use the first one to calculate the number of pixels\n",
    "\n",
    "imagesTrain = np.zeros((height * width, nTrainImages))  # Matrix with the training images as rows\n",
    "# TODO: write a piece of code to load all training data into imagesTrain\n",
    "# NOTE: You can use another more 'python' way to replace this c++ style data assignment: append every image in a list, and use np.stack to stack them into a batch, then flatten only width and height dimension\n",
    "\n",
    "# d) read testing images.\n",
    "nTestImages = 40 * 3  # testing images\n",
    "imagesTest = np.zeros((height * width, nTestImages))\n",
    "# %%%TODO: write a piece of code to load all test data into imagesTest"
   ]
  },
  {
   "cell_type": "code",
   "execution_count": null,
   "metadata": {
    "id": "KCMnU8ajozO2"
   },
   "outputs": [],
   "source": [
    "import numpy as np\n",
    "import matplotlib.pyplot as plt\n",
    "\n",
    "# Step 2: PCA\n",
    "# a) find the mean image\n",
    "mean_face = np.mean(imagesTrain, axis=1)\n",
    "# TODO: visualize mean_face\n",
    "\n",
    "\n",
    "# b) mean-shifted input images\n",
    "shifted_images = imagesTrain - mean_face[:, np.newaxis]\n",
    "\n",
    "# This is a pre-step to optimize calculation. (see your lecture notes)\n",
    "# TODO: normally we should find the covariance of shifted_images but it will be a 10304*10304 matrix!\n",
    "# to be optimized and avoid \"out of memory\" error, we use a trick!\n",
    "# Compute Y'*Y \n",
    "YY = 1/shifted_images.shape[0] * np.dot(shifted_images.T, shifted_images)\n",
    "\n",
    "# c) Compute eigenvectors\n",
    "evalues, evectors = np.linalg.eig(YY)\n",
    "evectors = np.dot(shifted_images, evectors)\n",
    "\n",
    "# d) Sort eigenvectors based on their corresponding eigenvalues\n",
    "# TODO: put the results in \"evectors\" variable\n",
    "\n",
    "# e) only retain the top 'num_eigenfaces' eigenvectors (i.e. the principal components)\n",
    "num_eigenfaces = 30\n",
    "# TODO: put the results in \"evectors\" variable\n",
    "\n",
    "# Normalize the eigenvectors so || evector_i|| = 1\n",
    "for i in range(num_eigenfaces):\n",
    "    evectors[:, i] /= np.linalg.norm(evectors[:, i])\n",
    "\n",
    "# f) project the images into the subspace to generate the feature vectors\n",
    "# TODO: put the results in \"features\" variable\n"
   ]
  },
  {
   "cell_type": "code",
   "execution_count": null,
   "metadata": {
    "id": "Mg-rRGMRqiOd"
   },
   "outputs": [],
   "source": [
    "import numpy as np\n",
    "import matplotlib.pyplot as plt\n",
    "\n",
    "# Step 3: Analysis of eigen faces\n",
    "# a) display the eigenvectors\n",
    "fig, axes = plt.subplots(1, num_eigenfaces, figsize=(12, 4))\n",
    "for n in range(num_eigenfaces):\n",
    "    evector = evectors[:, n].reshape(height, width)\n",
    "    axes[n].imshow(evector, cmap='gray')\n",
    "    axes[n].axis('off')\n",
    "plt.show()"
   ]
  },
  {
   "cell_type": "code",
   "execution_count": null,
   "metadata": {},
   "outputs": [],
   "source": [
    "# b) display the cumulative eigenvalues\n",
    "# TODO: hint: \"cumsum\" function for accumulation"
   ]
  },
  {
   "cell_type": "code",
   "execution_count": null,
   "metadata": {
    "id": "VdMlkn6RaH-P"
   },
   "outputs": [],
   "source": [
    "# Step 4: Identify a person\n",
    "testIm = 100  # chose a person index\n",
    "input_image = np.expand_dims(imagesTest[:, testIm],-1) \n",
    "# Tips: a shortcut way in python is input_image = imagesTest[:, testIm][..., None]\n",
    "\n",
    "shifted_input_image = input_image - mean_face[:, np.newaxis]\n",
    "shifted_imagesTrain = imagesTrain - mean_face[:, np.newaxis]\n",
    "\n",
    "# calculate the similarity of the input to each training image\n",
    "# TODO: put the result in \"similarity_score\" variable\n",
    "\n",
    "# find the image with the highest similarity\n",
    "match_ix = np.argmax(similarity_score)\n",
    "\n",
    "# display the result\n",
    "fig, ax = plt.subplots(1, 2)\n",
    "ax[0].imshow(input_image.reshape(height, width), cmap='gray')\n",
    "ax[0].axis('off')\n",
    "ax[1].imshow(imagesTrain[:, match_ix].reshape(height, width), cmap='gray')\n",
    "ax[1].axis('off')\n",
    "ax[1].set_title(f\"matches to the {match_ix}th training sample with score {similarity_score[match_ix]}\")\n",
    "plt.show()"
   ]
  },
  {
   "cell_type": "code",
   "execution_count": null,
   "metadata": {
    "id": "iNqJ-JYa4sCM"
   },
   "outputs": [],
   "source": [
    "# Step 5: Cluster the persons\n",
    "\n",
    "# a) Cluster the original images\n",
    "# TODO: put the results in \"clusters\" variable. \"clusters\" indicates cluster number for each sample. \n",
    "#       please refer to KMeans in popular machine learning library: https://scikit-learn.org/stable/modules/generated/sklearn.cluster.KMeans.html\n",
    "\n",
    "# Show the the images that were assigned to cluster 1\n",
    "img_index = np.where(clusters == 0)[0]\n",
    "\n",
    "for i in range(min(len(img_index), 7)):\n",
    "    plt.figure(111)\n",
    "    plt.subplot(1, 7, i+1)\n",
    "    img = np.reshape(imagesTrain[:, img_index[i]], (height, width))\n",
    "    plt.imshow(img, cmap='gray')\n",
    "    plt.axis('off')"
   ]
  },
  {
   "cell_type": "code",
   "execution_count": null,
   "metadata": {},
   "outputs": [],
   "source": [
    "# b) Now cluster on the reduced space\n",
    "# TODO: put the results in \"clusters_pca\" variable.\n",
    "\n",
    "\n",
    "# Show the the images that were assigned to cluster 1\n",
    "img_index = np.where(clusters_pca == 0)[0]\n",
    "for i in range(min(len(img_index), 7)):\n",
    "    plt.figure(111)\n",
    "    plt.subplot(1, 7, i+1)\n",
    "    img = np.reshape(imagesTrain[:, img_index[i]], (height, width))\n",
    "    plt.imshow(img, cmap='gray')\n",
    "    plt.axis('off')"
   ]
  },
  {
   "cell_type": "code",
   "execution_count": null,
   "metadata": {},
   "outputs": [],
   "source": [
    "# c) Try agglomerative clustering on some images\n",
    "# TODO: hint: use linkage command for agglomerative clustering with \"single\" metric and put the results in \"Z_agglo\" variable\n",
    "from scipy.cluster.hierarchy import dendrogram, linkage, fcluster\n",
    "\n",
    "checkImages = list(range(8,21)) # You can use any index, here index 8-20 have been selected\n",
    "\n",
    "Z_agglo = linkage(imagesTrain.T[checkImages], method='single')\n",
    "\n",
    "fig = plt.figure()\n",
    "dn = dendrogram(Z_agglo)\n",
    "c = fcluster(Z_agglo, t=2, criterion='maxclust') # Chage the value of t to change the number of clusters.\n",
    "\n",
    "# Show the the images that were assigned to cluster 1\n",
    "img_index = np.where(c == 1)[0] # change this value to see image associated with different clusters.\n",
    "for i in range(min(len(img_index), 5)):\n",
    "    plt.figure(111)\n",
    "    plt.subplot(1, 5, i+1)\n",
    "    img = np.reshape(imagesTrain[:, checkImages[img_index[i]]], (height, width))\n",
    "    plt.imshow(img, cmap='gray')\n",
    "    plt.axis('off')"
   ]
  }
 ],
 "metadata": {
  "colab": {
   "provenance": []
  },
  "kernelspec": {
   "display_name": "Python 3 (ipykernel)",
   "language": "python",
   "name": "python3"
  },
  "language_info": {
   "codemirror_mode": {
    "name": "ipython",
    "version": 3
   },
   "file_extension": ".py",
   "mimetype": "text/x-python",
   "name": "python",
   "nbconvert_exporter": "python",
   "pygments_lexer": "ipython3",
   "version": "3.10.13"
  }
 },
 "nbformat": 4,
 "nbformat_minor": 4
}
